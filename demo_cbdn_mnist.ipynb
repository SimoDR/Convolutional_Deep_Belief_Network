{
  "cells": [
    {
      "cell_type": "markdown",
      "metadata": {
        "id": "dqxsY4UQEA_z"
      },
      "source": [
        "# Convolutional Deep Belief Network"
      ]
    },
    {
      "cell_type": "markdown",
      "metadata": {
        "id": "6MjgpB6kGgcz"
      },
      "source": [
        "## Import\n",
        "\n"
      ]
    },
    {
      "cell_type": "code",
      "execution_count": null,
      "metadata": {
        "id": "ig2A_kFmNCCT"
      },
      "outputs": [],
      "source": [
        "def get_cdbn_library():\n",
        "  files = [\"CDBN.py\", \"CRBM.py\", \"DATA_HANDLER.py\"]\n",
        "  repository_url = \"https://raw.githubusercontent.com/SimoDR/Convolutional_Deep_Belief_Network/master/\"\n",
        "  for file in files:\n",
        "    ! wget -O {file} {repository_url}{file}\n",
        "\n",
        "get_cdbn_library()"
      ]
    },
    {
      "cell_type": "code",
      "execution_count": null,
      "metadata": {
        "id": "ZxiBeMeu3-jd"
      },
      "outputs": [],
      "source": [
        "import tensorflow.compat.v1 as tf\n",
        "import tensorflow_probability as tfp\n",
        "from tensorflow.keras.utils import to_categorical\n",
        "tf.disable_eager_execution()\n",
        "# tf.disable_v2_behavior()\n",
        "import random\n",
        "\n",
        "import CRBM as crbm\n",
        "import CDBN as cdbn\n",
        "import DATA_HANDLER as data_handler"
      ]
    },
    {
      "cell_type": "markdown",
      "metadata": {
        "id": "g2Yas9A_6uCi"
      },
      "source": [
        "## Data\n",
        "\n",
        "I load the MNIST dataset and perform some preprocessing"
      ]
    },
    {
      "cell_type": "code",
      "execution_count": null,
      "metadata": {
        "id": "K9fsAtSnYaXc"
      },
      "outputs": [],
      "source": [
        "mnist = tf.keras.datasets.mnist\n",
        "(train_images, train_labels_normal),(test_images, test_labels_normal) = mnist.load_data()\n",
        "\n",
        "# train_images = train_images[:10000]\n",
        "# train_labels_normal = train_labels_normal[:10000]\n",
        "\n",
        "# one hot encoding\n",
        "train_labels = to_categorical(train_labels_normal,10)\n",
        "test_labels = to_categorical(test_labels_normal,10)\n",
        "\n",
        "# scale the pixels values in [0,1]\n",
        "train_images = train_images/255\n",
        "test_images = test_images/255\n",
        "\n",
        "train_images = train_images.reshape(60000,784)\n",
        "test_images = test_images.reshape(10000,784)"
      ]
    },
    {
      "cell_type": "markdown",
      "metadata": {
        "id": "2D6a3L_3F2Zd"
      },
      "source": [
        "### Semi-supervised learning\n",
        "\n",
        "I train the CDBN on the whole mnist dataset but without labels: only for the last softmax layers I use a subset of the dataset with labels."
      ]
    },
    {
      "cell_type": "code",
      "execution_count": null,
      "metadata": {
        "id": "5372Z579E1TB"
      },
      "outputs": [],
      "source": [
        "# I use the whole dataset to train the CDBN layers\n",
        "unsupervised_training_images = train_images\n",
        "\n",
        "# I pick a subset of the whole dataset for supervised training\n",
        "# on the last softmax layer\n",
        "sampler = random.sample(range(60000), 1000)\n",
        "supervised_training_images = train_images[sampler]\n",
        "supervised_training_labels = train_labels[sampler]"
      ]
    },
    {
      "cell_type": "markdown",
      "metadata": {
        "id": "nF9z-ezvIcAr"
      },
      "source": [
        "I use the data handler to import data in the model"
      ]
    },
    {
      "cell_type": "code",
      "execution_count": null,
      "metadata": {
        "id": "o8WKf1536xqT"
      },
      "outputs": [],
      "source": [
        "mnist_dataset = data_handler.DATA_HANDLER(unsupervised_training_images, \n",
        "                                          supervised_training_images, \n",
        "                                          supervised_training_labels, \n",
        "                                          test_images, \n",
        "                                          test_labels)\n",
        "#mnist_dataset.do_whiten()\n",
        "sess = tf.Session()"
      ]
    },
    {
      "cell_type": "markdown",
      "metadata": {
        "id": "a9uPXOBe606a"
      },
      "source": [
        "## Model\n",
        "\n"
      ]
    },
    {
      "cell_type": "code",
      "execution_count": null,
      "metadata": {
        "id": "rdYntTIk62MF"
      },
      "outputs": [],
      "source": [
        "my_cdbn = cdbn.CDBN('mnist_cdbn', 20, '/home/', mnist_dataset, sess, verbosity = 2)\n",
        "\n",
        "my_cdbn.add_layer('layer_1', fully_connected = False, v_height = 28, v_width = 28, v_channels = 1, f_height = 11, f_width = 11, f_number = 40, \n",
        "               init_biases_H = -3, init_biases_V = 0.01, init_weight_stddev = 0.01, \n",
        "               gaussian_unit = True, gaussian_variance = 0.2, \n",
        "               prob_maxpooling = True, padding = True, \n",
        "               learning_rate = 0.0001, learning_rate_decay = 0.6, momentum = 0.5, decay_step = 50000,  \n",
        "               weight_decay = 2.0, sparsity_target = 0.003, sparsity_coef = 0.1)\n",
        "\n",
        "my_cdbn.add_layer('layer_2', fully_connected = False, v_height = 14, v_width = 14, v_channels = 40, f_height = 7, f_width = 7, f_number = 40, \n",
        "               init_biases_H = -3, init_biases_V = 0.025, init_weight_stddev = 0.025, \n",
        "               gaussian_unit = False, gaussian_variance = 0.2, \n",
        "               prob_maxpooling = True, padding = True, \n",
        "               learning_rate = 0.005, learning_rate_decay = 0.8, momentum = 0.9, decay_step = 50000,  \n",
        "               weight_decay = 0.1, sparsity_target = 0.1, sparsity_coef = 0.1)\n",
        "\n",
        "# my_cdbn.add_layer('layer_3', fully_connected = True, v_height = 1, v_width = 1, v_channels = 40*7*7, f_height = 1, f_width = 1, f_number = 200, \n",
        "#                init_biases_H = -3, init_biases_V = 0.025, init_weight_stddev = 0.025, \n",
        "#                gaussian_unit = False, gaussian_variance = 0.2, \n",
        "#                prob_maxpooling = False, padding = False, \n",
        "#                learning_rate = 0.0025, learning_rate_decay = 0.5, momentum = 0.9, decay_step = 50000,  \n",
        "#                weight_decay = 0.1, sparsity_target = 0.1, sparsity_coef = 0.1)\n",
        "\n",
        "my_cdbn.add_softmax_layer(10, 0.10)\n",
        "\n",
        "my_cdbn.lock_cdbn()\n",
        "\n",
        "tf.get_variable_scope().reuse_variables()\n"
      ]
    },
    {
      "cell_type": "markdown",
      "metadata": {
        "id": "B7pwJDLd64mq"
      },
      "source": [
        "## Training"
      ]
    },
    {
      "cell_type": "code",
      "execution_count": null,
      "metadata": {
        "id": "HT0G1gRP67wC"
      },
      "outputs": [],
      "source": [
        "# tf.debugging.enable_check_numerics() # to debug nan's\n",
        "\n",
        "my_cdbn.manage_layers(['layer_1','layer_2'],[],[5000,10000], [1,1], 10000, restore_softmax = False, fine_tune = True)"
      ]
    },
    {
      "cell_type": "markdown",
      "metadata": {
        "id": "_ZRfu6LeI0Qs"
      },
      "source": [
        "## Evaluation"
      ]
    },
    {
      "cell_type": "code",
      "execution_count": null,
      "metadata": {
        "id": "X57LRXKfI2Hc"
      },
      "outputs": [],
      "source": [
        "my_cdbn.do_eval()"
      ]
    }
  ],
  "metadata": {
    "accelerator": "GPU",
    "colab": {
      "collapsed_sections": [],
      "name": "demo_cbdn_mnist.ipynb",
      "provenance": []
    },
    "kernelspec": {
      "display_name": "Python 3",
      "name": "python3"
    },
    "language_info": {
      "name": "python"
    }
  },
  "nbformat": 4,
  "nbformat_minor": 0
}
